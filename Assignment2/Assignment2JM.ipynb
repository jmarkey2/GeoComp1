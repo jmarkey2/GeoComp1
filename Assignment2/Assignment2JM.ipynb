{
 "cells": [
  {
   "attachments": {},
   "cell_type": "markdown",
   "metadata": {},
   "source": [
    "## Assignment 2\n",
    "### GTECH 731\n",
    "### Spring 2023\n",
    "### Jake Markey\n"
   ]
  },
  {
   "cell_type": "code",
   "execution_count": 96,
   "metadata": {},
   "outputs": [
    {
     "name": "stdout",
     "output_type": "stream",
     "text": [
      "The file contains 3221 counties\n",
      "Do you know how many counties are called Buchanan County in the United States? Well let me tell you! The answer is 3.\n"
     ]
    }
   ],
   "source": [
    "\"\"\"\n",
    "Task 1 Read in a data file of all counties in the US.\n",
    "Make a list of unique county names.\n",
    "\"\"\"\n",
    "\n",
    "import json, random\n",
    "\n",
    "#Read the county json file to a dictionary variable\n",
    "with open(\"gz_2010_us_050_00_5m.json\", 'r') as f:\n",
    "  data = json.load(f)\n",
    "\n",
    "#confirm the dictionary loaded all of the data by printing number of features\n",
    "print(f\"The file contains {len(data['features'])} counties\")\n",
    "\n",
    "#make a list of county names\n",
    "featureList = data['features']\n",
    "\n",
    "#make a dictionary containing all counties and the number that they appear\n",
    "CountyDict = {}\n",
    "\n",
    "for i in featureList: \n",
    "    name = i['properties']['NAME']\n",
    "    if CountyDict.get(name) == None:\n",
    "        CountyDict.update({name:1})\n",
    "    else:\n",
    "        current_count = CountyDict.get(name)\n",
    "        updated_count = current_count + 1\n",
    "        CountyDict.update({name : updated_count})\n",
    "\n",
    "#print a random county name and its frequency\n",
    "sample_county = random.choice(list(CountyDict.keys()))\n",
    "print(f\"Do you know how many counties are called {sample_county} County in the United States? Well let me tell you! The answer is {CountyDict[sample_county]}.\")\n"
   ]
  },
  {
   "cell_type": "code",
   "execution_count": 98,
   "metadata": {},
   "outputs": [
    {
     "name": "stdout",
     "output_type": "stream",
     "text": [
      "This dictionary contains the three most common county names in the U.S. and the respective frequency: \n",
      " {'Washington': 31, 'Franklin': 26, 'Jefferson': 26} \n",
      "\n",
      "There are 31 Washington Counties that can be found in the following states: Colorado, Florida, Arkansas, Illinois, Iowa, Maine, Maryland, Missouri, Tennessee, Oklahoma, Oregon, Wisconsin, Utah, Vermont, Kansas, Indiana, Kentucky, Minnesota, Geogia, Alabama, Louisiana, Idaho, New York, North Carolina, Nebraska, Mississippi, Pennsylvania, Ohio, Rhode Island, Virginia, Texas.\n",
      "\n",
      "There are 26 Franklin Counties that can be found in the following states: Geogia, Alabama, Indiana, Idaho, Kentucky, Iowa, Mississippi, New York, Texas, Arkansas, Florida, Louisiana, Maine, Massachusetts, Illinois, Kansas, Missouri, Tennessee, Nebraska, North Carolina, Pennsylvania, Ohio, Virginia, Virginia, Washington, Vermont.\n",
      "\n",
      "There are 26 Jefferson Counties that can be found in the following states: Illinois, Geogia, Iowa, Oregon, Colorado, Arkansas, Florida, Kansas, Kentucky, Alabama, Louisiana, Mississippi, Idaho, Indiana, Missouri, Tennessee, Texas, New York, Oklahoma, Nebraska, Montana, Pennsylvania, Ohio, West Virginia, Wisconsin, Washington.\n",
      "\n"
     ]
    }
   ],
   "source": [
    "\"\"\"\n",
    "Task 2: Derive the numbers of counties that use these three names, respectively.For each of them, list their county name and state code. \n",
    "Note: using the JSON file with state FIPS codes I chose to print full state names instead. \n",
    "\"\"\"\n",
    "\n",
    "#Read the state/ fips json file to a dictionary variable\n",
    "with open(\"fipsToState.json\", 'r') as f:\n",
    "    StateFIP_Dict = json.load(f)\n",
    "\n",
    "\"\"\"\n",
    "Create nested loops. The first, outer loop will repeat the inner loop three times. The inner loop will check each county name against the preceding one(s), \n",
    "storing the highest value until another county knocks it out of its position. The winning county will be removed from the list and the process will be \n",
    "re-iterated- yieldeing the second and third place counties. \n",
    "\"\"\"\n",
    "#create a list varaible containing only unique county names\n",
    "county_names = list(CountyDict.keys())\n",
    "\n",
    "#create an empty dictionary to store the 3 most common county names and the number they appear.\n",
    "top3counties = {}\n",
    "\n",
    "#nested loops to find three most common county names. \n",
    "for i in range(3):\n",
    "    county_count = 0\n",
    "    for county in county_names:\n",
    "        if CountyDict.get(county) > county_count:\n",
    "            county_count = CountyDict.get(county)\n",
    "            popular_county_name = county\n",
    "        else: \n",
    "            pass\n",
    "    top3counties.update({popular_county_name : county_count})\n",
    "    county_names.remove(popular_county_name)\n",
    "print(f\"This dictionary contains the three most common county names in the U.S. and the respective frequency: \\n {top3counties} \\n\")\n",
    "\n",
    "#write the names of the states for the top 3 counties into a new dictionary\n",
    "countyStates = {}\n",
    "for county in top3counties: \n",
    "    TempStateList = []\n",
    "    for feature in featureList: \n",
    "        if county == feature['properties']['NAME']:\n",
    "            TempStateList.append(StateFIP_Dict.get(feature['properties']['STATE']))\n",
    "            #state = feature['properties']['STATE']\n",
    "        else:\n",
    "            pass\n",
    "    countyStates.update({county:TempStateList})\n",
    "    \n",
    "#print the results\n",
    "\"\"\"\n",
    "#Note: This may not be the optimal way to print this information since so much happens in just one line and it may be difficult to comprehend if you didn't write it.\n",
    "I wanted to experiment with comprehension and the join function here instead of writing a for loop, which would probably be simpler. \n",
    "\"\"\"\n",
    "print(\"\\n\".join([f\"There are {top3counties[county]} {county} Counties that can be found in the following states: {', '.join(map(str, countyStates[county]))}.\\n\" for county in top3counties]))"
   ]
  },
  {
   "cell_type": "code",
   "execution_count": 65,
   "metadata": {},
   "outputs": [
    {
     "name": "stdout",
     "output_type": "stream",
     "text": [
      "There are 64 counties in Colorado.\n",
      "The largest county is Las Animas at 4772.67 square miles and the smallest is Broomfield at 33.03 square miles.\n",
      "Cobined, the counties in Colorado are 103641.89 square miles. The mean county size is 1619.40 square miles.\n",
      "\n",
      "There are 5 counties in Hawaii.\n",
      "The largest county is Hawaii at 4028.42 square miles and the smallest is Kalawao at 11.99 square miles.\n",
      "Cobined, the counties in Hawaii are 6422.63 square miles. The mean county size is 1284.53 square miles.\n",
      "\n",
      "There are 21 counties in New Jersey.\n",
      "The largest county is Burlington at 798.58 square miles and the smallest is Hudson at 46.19 square miles.\n",
      "Cobined, the counties in New Jersey are 7354.22 square miles. The mean county size is 350.20 square miles.\n",
      "\n",
      "There are 16 counties in Maine.\n",
      "The largest county is Aroostook at 6671.33 square miles and the smallest is Sagadahoc at 253.69 square miles.\n",
      "Cobined, the counties in Maine are 30842.92 square miles. The mean county size is 1927.68 square miles.\n",
      "\n",
      "There are 29 counties in Alaska.\n",
      "The largest county is Yukon-Koyukuk at 145504.79 square miles and the smallest is Skagway at 452.32 square miles.\n",
      "Cobined, the counties in Alaska are 570640.95 square miles. The mean county size is 19677.27 square miles.\n",
      "\n"
     ]
    }
   ],
   "source": [
    "\"\"\"\n",
    "Task 3 Basic statistics by state\n",
    "\n",
    "For each state, find\n",
    "\n",
    "    The number of counties\n",
    "    The name and size (census area) of the biggest and smallest county by area\n",
    "    The total and average area of counties\n",
    "\n",
    "\"\"\"\n",
    "\n",
    "#create a dictionary with each state name as the key, and each value being a list of counties stored with unique IDs (GeoID)\n",
    "StateCounty_Dict = {}\n",
    "for state in list(StateFIP_Dict.keys()):\n",
    "    countylist = []\n",
    "    StateCounty_Dict.update({StateFIP_Dict.get(state):countylist})\n",
    "    for i in featureList:\n",
    "        if state == i[\"properties\"][\"STATE\"]:\n",
    "            countylist.append(i['properties']['GEO_ID'])\n",
    "            StateCounty_Dict.update({StateFIP_Dict.get(state):countylist})\n",
    "        else: \n",
    "            pass\n",
    "\n",
    "\n",
    "#create a dictionary of all county sizes\n",
    "CountySize_Dict = {}\n",
    "for i in featureList:\n",
    "    CountySize_Dict.update({i['properties']['GEO_ID']:i['properties']['CENSUSAREA']})\n",
    "\n",
    "#create a dictionary that matches GeoID to county name\n",
    "GeoIDCountyName_Dict = {}\n",
    "for i in featureList:\n",
    "   GeoIDCountyName_Dict.update({i['properties']['GEO_ID']:i['properties']['NAME']})\n",
    "\n",
    "#funtion that identifies the largest and smallest counties in a state and prints the respective size (rounded to two decimals)\n",
    "def BigSmallCounties(state):\n",
    "    counties = StateCounty_Dict.get(state)\n",
    "    biggest = counties[1]\n",
    "    smallest = counties[1]\n",
    "    for county in counties: \n",
    "        if CountySize_Dict[county] > CountySize_Dict[biggest]:\n",
    "            biggest = county\n",
    "        elif CountySize_Dict[county] < CountySize_Dict[smallest]:\n",
    "            smallest = county\n",
    "        else: \n",
    "            pass\n",
    "    print(f\"The largest county is {GeoIDCountyName_Dict.get(biggest)} at {CountySize_Dict.get(biggest):.2f} square miles and the smallest is {GeoIDCountyName_Dict.get(smallest)} at {CountySize_Dict.get(smallest):.2f} square miles.\")\n",
    "\n",
    "#function to compute the total and average county size in the chosen state\n",
    "def TotalAverageCountySize(state):\n",
    "    counties = StateCounty_Dict.get(state)\n",
    "    TotalSize = 0\n",
    "    for county in counties:\n",
    "        TotalSize += CountySize_Dict[county]\n",
    "    MeanSize = TotalSize / len(counties)\n",
    "    print(f\"Cobined, the counties in {state} are {TotalSize:.2f} square miles. The mean county size is {MeanSize:.2f} square miles.\\n\")\n",
    "\n",
    "#loop that enables the user to learn about the counties in a state of his or her choice. Loop breaks when a string other than a state is entered. \n",
    "while True:\n",
    "    states = StateCounty_Dict.keys()\n",
    "    UserState = str(input(\"Which U.S. state would you like to know about? Type anything other than a state name to break\"))\n",
    "    if UserState in states: \n",
    "        print(f\"There are {len(StateCounty_Dict.get(UserState))} counties in {UserState}.\")\n",
    "        BigSmallCounties(UserState)\n",
    "        TotalAverageCountySize(UserState)\n",
    "    else: \n",
    "        break\n",
    "\n",
    "\n"
   ]
  },
  {
   "attachments": {},
   "cell_type": "markdown",
   "metadata": {},
   "source": [
    "Input for previous code was \"Colorado\" \"Hawaii\" \"New Jersey\" \"Maine\" and \"Alaska.\" The loop can be easily modified to list these statistics for each state by switching it to a \"for\" loop that loops through each state in a complete list of states, then utilizing the functions BigSmallCounties and TotalAverageCountySize. I opted for the user-input approach because the output would be too long if each state were listed. "
   ]
  }
 ],
 "metadata": {
  "kernelspec": {
   "display_name": "Python 3",
   "language": "python",
   "name": "python3"
  },
  "language_info": {
   "codemirror_mode": {
    "name": "ipython",
    "version": 3
   },
   "file_extension": ".py",
   "mimetype": "text/x-python",
   "name": "python",
   "nbconvert_exporter": "python",
   "pygments_lexer": "ipython3",
   "version": "3.11.1"
  },
  "orig_nbformat": 4,
  "vscode": {
   "interpreter": {
    "hash": "a8cfb8d83ed0f2df26aea47c6ef5ab70c007bd92170a7ba26c3d4c51a1cb1ba9"
   }
  }
 },
 "nbformat": 4,
 "nbformat_minor": 2
}
