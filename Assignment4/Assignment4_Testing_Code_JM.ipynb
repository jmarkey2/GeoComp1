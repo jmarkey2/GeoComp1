{
 "cells": [
  {
   "attachments": {},
   "cell_type": "markdown",
   "metadata": {},
   "source": [
    "## Assignment 4\n",
    "### GTECH 731\n",
    "### Spring 2023\n",
    "### Jake Markey"
   ]
  },
  {
   "attachments": {},
   "cell_type": "markdown",
   "metadata": {},
   "source": [
    "Task 1- \"Write testing code to verify the new class works as expected.\""
   ]
  },
  {
   "cell_type": "code",
   "execution_count": 1,
   "metadata": {},
   "outputs": [
    {
     "name": "stdout",
     "output_type": "stream",
     "text": [
      "Name: Sally, Type: triangle, Color: BLUE, Area: 5.0\n"
     ]
    }
   ],
   "source": [
    "#import all modules from the geom_classes package\n",
    "from geom_classes import *\n",
    "\n",
    "#Create an instance of the triangle class, with a width of 2 and a height of 5, stored in a variable called 'MyTriangle'\n",
    "MyTriangle = triangle.Triangle(2,5)\n",
    " \n",
    "#Print the string from the method (makeString function) defined in the parent geom class.\n",
    "#The makeString function calls the 'area' function defined in the sub-class.\n",
    "print(MyTriangle.makeString())"
   ]
  },
  {
   "attachments": {},
   "cell_type": "markdown",
   "metadata": {},
   "source": [
    "Task 2: \"Reorganize these classes as a package with one or multiple modules. Import them into another Python Notebook or Script file to test them.\""
   ]
  },
  {
   "cell_type": "code",
   "execution_count": 3,
   "metadata": {},
   "outputs": [
    {
     "name": "stdout",
     "output_type": "stream",
     "text": [
      "Name: Hussain, Type: triangle, Color: PURPLE, Area: 10.0\n",
      "Name: Sally, Type: circle, Color: BLUE, Area: 78.53981633974483\n",
      "Name: Bill, Type: square, Color: PURPLE, Area: 64\n"
     ]
    }
   ],
   "source": [
    "#Create  instances of a triangle, circle, and square\n",
    "TestTriangle = triangle.Triangle(4,5)\n",
    "TestCircle = circle.Circle(5)\n",
    "TestSquare = square.Square(8)\n",
    "\n",
    "\"\"\"\n",
    "Loop through each shape and call the makeString function. Since each shape inherits the methods of the 'geom' class, this will \n",
    "demonstrate that the three shape classes function properly and are subclasses of 'geom' \n",
    "\"\"\" \n",
    "\n",
    "#Create a list variable that stores each test shape\n",
    "TestShapes = [TestTriangle, TestCircle, TestSquare]\n",
    "\n",
    "for shape in TestShapes:\n",
    "    print(shape.makeString())"
   ]
  }
 ],
 "metadata": {
  "kernelspec": {
   "display_name": "Python 3",
   "language": "python",
   "name": "python3"
  },
  "language_info": {
   "codemirror_mode": {
    "name": "ipython",
    "version": 3
   },
   "file_extension": ".py",
   "mimetype": "text/x-python",
   "name": "python",
   "nbconvert_exporter": "python",
   "pygments_lexer": "ipython3",
   "version": "3.11.1"
  },
  "orig_nbformat": 4,
  "vscode": {
   "interpreter": {
    "hash": "a8cfb8d83ed0f2df26aea47c6ef5ab70c007bd92170a7ba26c3d4c51a1cb1ba9"
   }
  }
 },
 "nbformat": 4,
 "nbformat_minor": 2
}
